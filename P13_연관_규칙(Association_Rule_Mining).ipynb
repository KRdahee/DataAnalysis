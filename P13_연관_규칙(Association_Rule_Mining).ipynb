{
  "nbformat": 4,
  "nbformat_minor": 0,
  "metadata": {
    "colab": {
      "provenance": [],
      "toc_visible": true
    },
    "kernelspec": {
      "name": "python3",
      "display_name": "Python 3"
    },
    "language_info": {
      "name": "python"
    }
  },
  "cells": [
    {
      "cell_type": "markdown",
      "source": [
        "# 연관 규칙(Association Rule Mining)"
      ],
      "metadata": {
        "id": "3-enAAV8YhcI"
      }
    },
    {
      "cell_type": "markdown",
      "source": [
        "## 연관 규칙 예제"
      ],
      "metadata": {
        "id": "3xPoPkIaKWQ9"
      }
    },
    {
      "cell_type": "code",
      "source": [
        "%%writefile itemset_sample.csv\n",
        "A,B,,,\n",
        "A,B,C,,\n",
        "A,C,D,E,\n",
        "A,E,B,,\n",
        "B,C,D,,\n",
        "B,C,D,E,\n",
        "F,A,B,,\n",
        "A,D,F,G,\n",
        "G,F,B,C,E\n",
        "A,B,,,\n",
        "C,D,,,\n",
        "C,D,E,,\n",
        "C,F,G,,"
      ],
      "metadata": {
        "colab": {
          "base_uri": "https://localhost:8080/"
        },
        "id": "VfMPewiIHv4m",
        "outputId": "24c71724-2869-4bf0-9810-23bebc9867f6"
      },
      "execution_count": null,
      "outputs": [
        {
          "output_type": "stream",
          "name": "stdout",
          "text": [
            "Writing itemset_sample.csv\n"
          ]
        }
      ]
    },
    {
      "cell_type": "code",
      "source": [],
      "metadata": {
        "id": "VS9pu57MYpuO"
      },
      "execution_count": null,
      "outputs": []
    },
    {
      "cell_type": "code",
      "source": [
        "%%writefile transaction_sample.csv\n",
        "T1 A\n",
        "T1 B\n",
        "T1 C\n",
        "T2 B\n",
        "T2 A\n",
        "T2 C\n",
        "T2 D\n",
        "T2 E\n",
        "T3 A\n",
        "T3 E\n",
        "T3 B\n",
        "T4 B\n",
        "T4 C\n",
        "T4 D\n",
        "T5 F\n",
        "T5 A\n",
        "T5 B \n",
        "T6 A\n",
        "T6 D\n",
        "T6 F\n",
        "T6 G\n",
        "T7 G\n",
        "T7 F\n",
        "T7 B\n",
        "T7 C\n",
        "T7 E\n",
        "T8 A\n",
        "T8 B\n",
        "T9 C\n",
        "T9 C\n",
        "T9 D\n",
        "T10 B\n",
        "T10 C\n",
        "T10 C\n",
        "T10 G"
      ],
      "metadata": {
        "colab": {
          "base_uri": "https://localhost:8080/"
        },
        "id": "EyqD9dPPJhne",
        "outputId": "d171e624-c612-4a65-f4e3-849f5d1ab6d7"
      },
      "execution_count": null,
      "outputs": [
        {
          "output_type": "stream",
          "name": "stdout",
          "text": [
            "Writing transaction_sample.csv\n"
          ]
        }
      ]
    },
    {
      "cell_type": "code",
      "source": [],
      "metadata": {
        "id": "2AcGNJ44Jzh1"
      },
      "execution_count": null,
      "outputs": []
    },
    {
      "cell_type": "markdown",
      "source": [
        "## Groceries 연관 분석"
      ],
      "metadata": {
        "id": "UpeK27FDYrhN"
      }
    },
    {
      "cell_type": "markdown",
      "source": [
        "### 데이터 로드\n",
        "\n",
        "- Groceries 데이터셋: http://suanlab.com/datasets/groceries_data.csv"
      ],
      "metadata": {
        "id": "FEOPY493Mz-E"
      }
    },
    {
      "cell_type": "code",
      "source": [],
      "metadata": {
        "id": "8uxLLF1JAejZ"
      },
      "execution_count": null,
      "outputs": []
    },
    {
      "cell_type": "code",
      "source": [],
      "metadata": {
        "id": "WssEWrj2YpzR"
      },
      "execution_count": null,
      "outputs": []
    },
    {
      "cell_type": "markdown",
      "source": [
        "### 워드클라우드"
      ],
      "metadata": {
        "id": "CwJsmpv7Y4Ii"
      }
    },
    {
      "cell_type": "code",
      "source": [],
      "metadata": {
        "id": "8M3NWcUqKf2c"
      },
      "execution_count": null,
      "outputs": []
    },
    {
      "cell_type": "code",
      "source": [],
      "metadata": {
        "id": "-aXZAxsVYp1r"
      },
      "execution_count": null,
      "outputs": []
    },
    {
      "cell_type": "markdown",
      "source": [
        "### 바 차트"
      ],
      "metadata": {
        "id": "0nN-yemlY9JK"
      }
    },
    {
      "cell_type": "code",
      "source": [],
      "metadata": {
        "id": "MmC77cHlYp4N"
      },
      "execution_count": null,
      "outputs": []
    },
    {
      "cell_type": "markdown",
      "source": [
        "### 연관 규칙"
      ],
      "metadata": {
        "id": "d1ZaK9HHZNL7"
      }
    },
    {
      "cell_type": "code",
      "source": [],
      "metadata": {
        "id": "JKd8m-7bLPzl"
      },
      "execution_count": null,
      "outputs": []
    },
    {
      "cell_type": "code",
      "source": [],
      "metadata": {
        "id": "lb8d-vXcZPH7"
      },
      "execution_count": null,
      "outputs": []
    },
    {
      "cell_type": "code",
      "source": [],
      "metadata": {
        "id": "VcWHVYevZQXH"
      },
      "execution_count": null,
      "outputs": []
    },
    {
      "cell_type": "code",
      "source": [],
      "metadata": {
        "id": "K4GZGwsCZQcL"
      },
      "execution_count": null,
      "outputs": []
    },
    {
      "cell_type": "markdown",
      "source": [
        "### 그래프 시각화"
      ],
      "metadata": {
        "id": "Qucix1-TZT_Y"
      }
    },
    {
      "cell_type": "code",
      "source": [],
      "metadata": {
        "id": "bs7MLUUbLpoN"
      },
      "execution_count": null,
      "outputs": []
    },
    {
      "cell_type": "code",
      "source": [],
      "metadata": {
        "id": "2jfX_gFkZUH-"
      },
      "execution_count": null,
      "outputs": []
    },
    {
      "cell_type": "code",
      "source": [],
      "metadata": {
        "id": "68ZgrTDfZUK5"
      },
      "execution_count": null,
      "outputs": []
    },
    {
      "cell_type": "code",
      "source": [],
      "metadata": {
        "id": "naPTjGvWZZx-"
      },
      "execution_count": null,
      "outputs": []
    },
    {
      "cell_type": "code",
      "source": [],
      "metadata": {
        "id": "T6Q-jAFiZZ0Z"
      },
      "execution_count": null,
      "outputs": []
    },
    {
      "cell_type": "code",
      "source": [],
      "metadata": {
        "id": "ldsmtjyZZcyi"
      },
      "execution_count": null,
      "outputs": []
    },
    {
      "cell_type": "markdown",
      "source": [
        "## Bread Basket 연관 분석\n",
        "\n"
      ],
      "metadata": {
        "id": "FABMjKgvV02D"
      }
    },
    {
      "cell_type": "code",
      "source": [],
      "metadata": {
        "id": "mHqKdXTrWYe1"
      },
      "execution_count": null,
      "outputs": []
    },
    {
      "cell_type": "markdown",
      "source": [
        "### 데이터 로드\n",
        "\n",
        "- Bread Basket 데이터셋: http://suanlab.com/datasets/bread_basket.csv"
      ],
      "metadata": {
        "id": "8QEJX3QpMl_P"
      }
    },
    {
      "cell_type": "code",
      "source": [],
      "metadata": {
        "id": "Lxw63gpiMl_Q"
      },
      "execution_count": null,
      "outputs": []
    },
    {
      "cell_type": "code",
      "source": [],
      "metadata": {
        "id": "023DAwU5XNrM"
      },
      "execution_count": null,
      "outputs": []
    },
    {
      "cell_type": "code",
      "source": [],
      "metadata": {
        "id": "3nnL3JQIX_QL"
      },
      "execution_count": null,
      "outputs": []
    },
    {
      "cell_type": "code",
      "source": [],
      "metadata": {
        "id": "lfLz3v8jvJie"
      },
      "execution_count": null,
      "outputs": []
    },
    {
      "cell_type": "code",
      "source": [],
      "metadata": {
        "id": "LWjVmQL7vYim"
      },
      "execution_count": null,
      "outputs": []
    },
    {
      "cell_type": "code",
      "source": [],
      "metadata": {
        "id": "eT3h_q5eX_Hr"
      },
      "execution_count": null,
      "outputs": []
    },
    {
      "cell_type": "markdown",
      "source": [
        "### 데이터 탐색"
      ],
      "metadata": {
        "id": "VzZcy-qSYJN1"
      }
    },
    {
      "cell_type": "code",
      "source": [],
      "metadata": {
        "id": "hy1hr_pAX-_O"
      },
      "execution_count": null,
      "outputs": []
    },
    {
      "cell_type": "code",
      "source": [],
      "metadata": {
        "id": "EqoXmGYvYOAP"
      },
      "execution_count": null,
      "outputs": []
    },
    {
      "cell_type": "code",
      "source": [],
      "metadata": {
        "id": "QeWs7ZEXYSQL"
      },
      "execution_count": null,
      "outputs": []
    },
    {
      "cell_type": "code",
      "source": [],
      "metadata": {
        "id": "HvAT1spYYT3T"
      },
      "execution_count": null,
      "outputs": []
    },
    {
      "cell_type": "code",
      "source": [],
      "metadata": {
        "id": "yAnpOelXYVqZ"
      },
      "execution_count": null,
      "outputs": []
    },
    {
      "cell_type": "markdown",
      "source": [
        "### 연관 규칙 시각화"
      ],
      "metadata": {
        "id": "Hegx51scYaGy"
      }
    },
    {
      "cell_type": "code",
      "source": [],
      "metadata": {
        "id": "2aH9JDvZYW3i"
      },
      "execution_count": null,
      "outputs": []
    },
    {
      "cell_type": "markdown",
      "source": [
        "### PyARMViz 라이브러리"
      ],
      "metadata": {
        "id": "aCNy3UFKYjqm"
      }
    },
    {
      "cell_type": "code",
      "source": [],
      "metadata": {
        "id": "Qw4fvfX7Yhex"
      },
      "execution_count": null,
      "outputs": []
    },
    {
      "cell_type": "code",
      "source": [],
      "metadata": {
        "id": "SU5pqcZEYl0n"
      },
      "execution_count": null,
      "outputs": []
    },
    {
      "cell_type": "code",
      "source": [],
      "metadata": {
        "id": "52XEp1sKYn3d"
      },
      "execution_count": null,
      "outputs": []
    },
    {
      "cell_type": "code",
      "source": [],
      "metadata": {
        "id": "Lrdp9eaBYy6c"
      },
      "execution_count": null,
      "outputs": []
    },
    {
      "cell_type": "code",
      "source": [],
      "metadata": {
        "id": "tjc85KsVY1DB"
      },
      "execution_count": null,
      "outputs": []
    },
    {
      "cell_type": "code",
      "source": [],
      "metadata": {
        "id": "FKmqNd2HY750"
      },
      "execution_count": null,
      "outputs": []
    }
  ]
}